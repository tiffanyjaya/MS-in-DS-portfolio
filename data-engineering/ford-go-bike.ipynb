{
 "cells": [
  {
   "cell_type": "markdown",
   "metadata": {},
   "source": [
    "# SQL Analysis on Ford Go Bike"
   ]
  },
  {
   "cell_type": "code",
   "execution_count": 4,
   "metadata": {},
   "outputs": [],
   "source": [
    "import pandas as pd\n",
    "%matplotlib inline"
   ]
  },
  {
   "cell_type": "markdown",
   "metadata": {},
   "source": [
    "## Overview"
   ]
  },
  {
   "cell_type": "markdown",
   "metadata": {},
   "source": [
    "In this assignment, we are employing Ford GoBike's trip data which are publicly available in order to answer two questions:\n",
    "1. What are the 5 most popular trips that you would call \"commuter trips\"?\n",
    "2. What are your recommendations for offers? \n",
    "\n",
    "Ford GoBike is a bike share program located in the Bay Area. "
   ]
  },
  {
   "cell_type": "markdown",
   "metadata": {},
   "source": [
    "## What are the 5 most popular trips that you would call \"commuter trips\"?"
   ]
  },
  {
   "cell_type": "markdown",
   "metadata": {},
   "source": [
    "I will define \"commuter trips\" with the following assumptions:  \n",
    "* It has to occur within the same day.\n",
    "* It has to occur in a weekday.\n",
    "* A one-way commute is 19 minutes or less. \n",
    "  * Based on the US Census Bureau's data <sup>1</sup>, the median commute time for those who bike to work one-way is approximately 19 minutes. \n",
    "* It has a different start and end station.\n",
    "* Because Ford GoBike is located in the Bay Area and the Bay Area has flexible work schedules <sup>2</sup>, there is no set time when people come in or leave work. For this reason, I will not limit the time range to the common morning (7-9 AM) and evening (4-6 PM) commute time. \n",
    "\n",
    "According to our definition of \"commuter trips,\" the 5 most popular commuter trips are: "
   ]
  },
  {
   "cell_type": "markdown",
   "metadata": {},
   "source": [
    "### Via Query"
   ]
  },
  {
   "cell_type": "code",
   "execution_count": 6,
   "metadata": {
    "scrolled": true
   },
   "outputs": [
    {
     "name": "stdout",
     "output_type": "stream",
     "text": [
      "Waiting on bqjob_rd3d5784e1397dd3_00000161b99875f5_1 ... (0s) Current status: DONE   \n",
      "+-----------------------------------------+------------------------------------------+-------+\n",
      "|           start_station_name            |             end_station_name             | count |\n",
      "+-----------------------------------------+------------------------------------------+-------+\n",
      "| San Francisco Caltrain 2 (330 Townsend) | Townsend at 7th                          |  7965 |\n",
      "| 2nd at Townsend                         | Harry Bridges Plaza (Ferry Building)     |  6878 |\n",
      "| Townsend at 7th                         | San Francisco Caltrain 2 (330 Townsend)  |  6361 |\n",
      "| Embarcadero at Sansome                  | Steuart at Market                        |  6318 |\n",
      "| Embarcadero at Folsom                   | San Francisco Caltrain (Townsend at 4th) |  6084 |\n",
      "+-----------------------------------------+------------------------------------------+-------+\n"
     ]
    }
   ],
   "source": [
    "! bq query --use_legacy_sql=FALSE '\\\n",
    "SELECT \\\n",
    "  start_station_name, \\\n",
    "  end_station_name, \\\n",
    "  COUNT(*) AS count \\\n",
    "FROM \\\n",
    "  `bigquery-public-data.san_francisco.bikeshare_trips` \\\n",
    "WHERE \\\n",
    "  DATE(start_date) = DATE(end_date) \\\n",
    "  AND EXTRACT(DAYOFWEEK FROM start_date AT TIME ZONE \"America/Los_Angeles\") NOT IN (7, 1) \\\n",
    "  AND EXTRACT(DAYOFWEEK FROM end_date AT TIME ZONE \"America/Los_Angeles\") NOT IN (7, 1) \\\n",
    "  AND duration_sec/60 <= 19 \\\n",
    "  AND start_station_id <> end_station_id \\\n",
    "GROUP BY \\\n",
    "  start_station_name, \\\n",
    "  end_station_name \\\n",
    "ORDER BY \\\n",
    "  count DESC \\\n",
    "LIMIT \\\n",
    "  5; \\\n",
    "'"
   ]
  },
  {
   "cell_type": "markdown",
   "metadata": {},
   "source": [
    "### Via CSV"
   ]
  },
  {
   "cell_type": "code",
   "execution_count": 7,
   "metadata": {},
   "outputs": [
    {
     "name": "stdout",
     "output_type": "stream",
     "text": [
      "\r",
      "Waiting on bqjob_r29d40ad332c03ea8_00000161b999d35a_1 ... (0s) Current status: DONE   "
     ]
    }
   ],
   "source": [
    "! bq query --use_legacy_sql=FALSE --format=csv '\\\n",
    "SELECT \\\n",
    "  start_station_name, \\\n",
    "  end_station_name, \\\n",
    "  COUNT(*) AS count \\\n",
    "FROM \\\n",
    "  `bigquery-public-data.san_francisco.bikeshare_trips` \\\n",
    "WHERE \\\n",
    "  DATE(start_date) = DATE(end_date) \\\n",
    "  AND EXTRACT(DAYOFWEEK FROM start_date AT TIME ZONE \"America/Los_Angeles\") NOT IN (7, 1) \\\n",
    "  AND EXTRACT(DAYOFWEEK FROM end_date AT TIME ZONE \"America/Los_Angeles\") NOT IN (7, 1) \\\n",
    "  AND duration_sec/60 <= 19 \\\n",
    "  AND start_station_id <> end_station_id \\\n",
    "GROUP BY \\\n",
    "  start_station_name, \\\n",
    "  end_station_name \\\n",
    "ORDER BY \\\n",
    "  count DESC \\\n",
    "LIMIT \\\n",
    "  5; \\\n",
    "' > top_5_commuter_trips.csv"
   ]
  },
  {
   "cell_type": "code",
   "execution_count": 8,
   "metadata": {
    "scrolled": false
   },
   "outputs": [
    {
     "data": {
      "text/html": [
       "<div>\n",
       "<style scoped>\n",
       "    .dataframe tbody tr th:only-of-type {\n",
       "        vertical-align: middle;\n",
       "    }\n",
       "\n",
       "    .dataframe tbody tr th {\n",
       "        vertical-align: top;\n",
       "    }\n",
       "\n",
       "    .dataframe thead th {\n",
       "        text-align: right;\n",
       "    }\n",
       "</style>\n",
       "<table border=\"1\" class=\"dataframe\">\n",
       "  <thead>\n",
       "    <tr style=\"text-align: right;\">\n",
       "      <th></th>\n",
       "      <th>start_station_name</th>\n",
       "      <th>end_station_name</th>\n",
       "      <th>count</th>\n",
       "    </tr>\n",
       "  </thead>\n",
       "  <tbody>\n",
       "    <tr>\n",
       "      <th>0</th>\n",
       "      <td>San Francisco Caltrain 2 (330 Townsend)</td>\n",
       "      <td>Townsend at 7th</td>\n",
       "      <td>7965</td>\n",
       "    </tr>\n",
       "    <tr>\n",
       "      <th>1</th>\n",
       "      <td>2nd at Townsend</td>\n",
       "      <td>Harry Bridges Plaza (Ferry Building)</td>\n",
       "      <td>6878</td>\n",
       "    </tr>\n",
       "    <tr>\n",
       "      <th>2</th>\n",
       "      <td>Townsend at 7th</td>\n",
       "      <td>San Francisco Caltrain 2 (330 Townsend)</td>\n",
       "      <td>6361</td>\n",
       "    </tr>\n",
       "    <tr>\n",
       "      <th>3</th>\n",
       "      <td>Embarcadero at Sansome</td>\n",
       "      <td>Steuart at Market</td>\n",
       "      <td>6318</td>\n",
       "    </tr>\n",
       "    <tr>\n",
       "      <th>4</th>\n",
       "      <td>Embarcadero at Folsom</td>\n",
       "      <td>San Francisco Caltrain (Townsend at 4th)</td>\n",
       "      <td>6084</td>\n",
       "    </tr>\n",
       "  </tbody>\n",
       "</table>\n",
       "</div>"
      ],
      "text/plain": [
       "                        start_station_name  \\\n",
       "0  San Francisco Caltrain 2 (330 Townsend)   \n",
       "1                          2nd at Townsend   \n",
       "2                          Townsend at 7th   \n",
       "3                   Embarcadero at Sansome   \n",
       "4                    Embarcadero at Folsom   \n",
       "\n",
       "                           end_station_name  count  \n",
       "0                           Townsend at 7th   7965  \n",
       "1      Harry Bridges Plaza (Ferry Building)   6878  \n",
       "2   San Francisco Caltrain 2 (330 Townsend)   6361  \n",
       "3                         Steuart at Market   6318  \n",
       "4  San Francisco Caltrain (Townsend at 4th)   6084  "
      ]
     },
     "execution_count": 8,
     "metadata": {},
     "output_type": "execute_result"
    }
   ],
   "source": [
    "top_5_commuter_trips = pd.read_csv('top_5_commuter_trips.csv')\n",
    "top_5_commuter_trips"
   ]
  },
  {
   "cell_type": "code",
   "execution_count": 17,
   "metadata": {
    "scrolled": false
   },
   "outputs": [
    {
     "data": {
      "text/plain": [
       "<matplotlib.axes._subplots.AxesSubplot at 0x7ff4d4c76e48>"
      ]
     },
     "execution_count": 17,
     "metadata": {},
     "output_type": "execute_result"
    },
    {
     "data": {
      "image/png": "[encoded data removed]",
      "text/plain": [
       "<matplotlib.figure.Figure at 0x7ff4d4c842e8>"
      ]
     },
     "metadata": {},
     "output_type": "display_data"
    }
   ],
   "source": [
    "top_5_commuter_trips.plot(kind='bar')"
   ]
  },
  {
   "cell_type": "markdown",
   "metadata": {},
   "source": [
    "### If Bay Area did not offer flexible work schedules"
   ]
  },
  {
   "cell_type": "markdown",
   "metadata": {},
   "source": [
    "If Bay Area did not offer flexible work schedules and people commute in the morning around 7-9 AM and in the evening around 4-6 PM, the 5 most popular commuter trips are:"
   ]
  },
  {
   "cell_type": "code",
   "execution_count": 1,
   "metadata": {},
   "outputs": [
    {
     "name": "stdout",
     "output_type": "stream",
     "text": [
      "Waiting on bqjob_r72f5a5292321a9d9_00000161bb7cec9f_1 ... (3s) Current status: DONE   \n",
      "+-----------------------------------------------+------------------------------------------+-------+\n",
      "|              start_station_name               |             end_station_name             | count |\n",
      "+-----------------------------------------------+------------------------------------------+-------+\n",
      "| 2nd at Townsend                               | Harry Bridges Plaza (Ferry Building)     |  2843 |\n",
      "| Embarcadero at Folsom                         | San Francisco Caltrain (Townsend at 4th) |  2561 |\n",
      "| Temporary Transbay Terminal (Howard at Beale) | San Francisco Caltrain (Townsend at 4th) |  2278 |\n",
      "| Steuart at Market                             | San Francisco Caltrain (Townsend at 4th) |  2010 |\n",
      "| Embarcadero at Sansome                        | Steuart at Market                        |  2003 |\n",
      "+-----------------------------------------------+------------------------------------------+-------+\n"
     ]
    }
   ],
   "source": [
    "! bq query --use_legacy_sql=FALSE '\\\n",
    "SELECT \\\n",
    "  start_station_name, \\\n",
    "  end_station_name, \\\n",
    "  COUNT(*) AS count \\\n",
    "FROM \\\n",
    "  `bigquery-public-data.san_francisco.bikeshare_trips` \\\n",
    "WHERE \\\n",
    "  DATE(start_date) = DATE(end_date) \\\n",
    "  AND EXTRACT(DAYOFWEEK FROM start_date AT TIME ZONE \"America/Los_Angeles\") NOT IN (7, 1) \\\n",
    "  AND EXTRACT(DAYOFWEEK FROM end_date AT TIME ZONE \"America/Los_Angeles\") NOT IN (7, 1) \\\n",
    "  AND duration_sec/60 <= 19 \\\n",
    "  AND start_station_id <> end_station_id \\\n",
    "  AND ( \\\n",
    "    (\\\n",
    "      EXTRACT(HOUR FROM start_date AT TIME ZONE \"America/Los_Angeles\") >= 7 \\\n",
    "      AND EXTRACT(HOUR FROM end_date AT TIME ZONE \"America/Los_Angeles\") <= 9 \\\n",
    "    )\\\n",
    "    OR \\\n",
    "    (\\\n",
    "      EXTRACT(HOUR FROM start_date AT TIME ZONE \"America/Los_Angeles\") >= 16 \\\n",
    "      AND EXTRACT(HOUR FROM end_date AT TIME ZONE \"America/Los_Angeles\") <= 18 \\\n",
    "    )\\\n",
    "  )\\\n",
    "GROUP BY \\\n",
    "  start_station_name, \\\n",
    "  end_station_name \\\n",
    "ORDER BY \\\n",
    "  count DESC \\\n",
    "LIMIT \\\n",
    "  5; \\\n",
    "'"
   ]
  },
  {
   "cell_type": "markdown",
   "metadata": {},
   "source": [
    "The number of trips drops considerably. Also, the top 5 commuter trips under this assumption are mostly different than the ones listed above. "
   ]
  },
  {
   "cell_type": "markdown",
   "metadata": {},
   "source": [
    "## Closing Thoughts"
   ]
  },
  {
   "cell_type": "markdown",
   "metadata": {},
   "source": [
    "What is interesting to note is that I would have expected the start and end station pair to have its respective vice-versa pair with the same number of counts, thereby placing the vice-versa pair also in the top 5. For example, I expected that (2nd at Townsend, Harry Bridges Plaza) and (Harry Bridges Plaza, 2nd at Townsend) have the same number of counts and therefore are in the top 5, but that is not the case. Further research is necessary to determine if people commuted differently in the morning than in the evening."
   ]
  },
  {
   "cell_type": "markdown",
   "metadata": {},
   "source": [
    "## What are your recommendations for offers?"
   ]
  },
  {
   "cell_type": "markdown",
   "metadata": {},
   "source": [
    "Ford GoBike currently offers the following plan:  \n",
    "* a flat price of \\$3 for a single 30-minute one-way trip (extra \\$3 per additional 15 minutes)\n",
    "* a day pass of \\$9.95 that allows unlimited 30-minute rides for 24 hours (extra \\$3 per additional 15 minutes)\n",
    "* an annual membership of \\$149 per year\n",
    "\n",
    "Without an ID, we do not know which subscriber/customer rides which trip. Also, we cannot differentiate between the specific subscriber type. We do not know if a subscriber is an annual or a 30-day member or if a customer is a 24-hour or a 3-day member.  \n",
    "\n",
    "My recommendations for offers are provided in the \"Conclusion.\""
   ]
  },
  {
   "cell_type": "markdown",
   "metadata": {},
   "source": [
    "## Fact \\#1\n",
    "With that said, we know that subscribers constitute 86% of all trips."
   ]
  },
  {
   "cell_type": "code",
   "execution_count": 10,
   "metadata": {
    "scrolled": true
   },
   "outputs": [
    {
     "name": "stdout",
     "output_type": "stream",
     "text": [
      "Waiting on bqjob_r3f79e6418e4d3fdc_00000161bc17656b_1 ... (3s) Current status: DONE   \n",
      "+-----------------+----------------------+--------------------+\n",
      "| total_num_trips | num_subscriber_trips | num_customer_trips |\n",
      "+-----------------+----------------------+--------------------+\n",
      "|          983648 |               846839 |             136809 |\n",
      "+-----------------+----------------------+--------------------+\n"
     ]
    }
   ],
   "source": [
    "! bq query --use_legacy_sql=FALSE '\\\n",
    "SELECT \\\n",
    "  COUNT(DISTINCT trip_id) AS total_num_trips, \\\n",
    "  SUM(CASE WHEN subscriber_type = \"Subscriber\" THEN 1 ELSE 0 end) AS num_subscriber_trips, \\\n",
    "  SUM(CASE WHEN subscriber_type = \"Customer\" THEN 1 ELSE 0 END) AS num_customer_trips \\\n",
    "FROM \\\n",
    " `bigquery-public-data.san_francisco.bikeshare_trips`; \\\n",
    "'"
   ]
  },
  {
   "cell_type": "code",
   "execution_count": 22,
   "metadata": {},
   "outputs": [],
   "source": [
    "total_num_trips = 983648\n",
    "num_subscriber_trips = 846839\n",
    "num_customer_trips = 136809\n",
    "def percentage(part, whole):\n",
    "    return float(part)/float(whole) * 100"
   ]
  },
  {
   "cell_type": "code",
   "execution_count": 23,
   "metadata": {},
   "outputs": [
    {
     "data": {
      "text/plain": [
       "86.09167100426168"
      ]
     },
     "execution_count": 23,
     "metadata": {},
     "output_type": "execute_result"
    }
   ],
   "source": [
    "# percentage of trips taken by subscribers\n",
    "percentage(num_subscriber_trips, total_num_trips)"
   ]
  },
  {
   "cell_type": "code",
   "execution_count": 24,
   "metadata": {},
   "outputs": [
    {
     "data": {
      "text/plain": [
       "13.908328995738312"
      ]
     },
     "execution_count": 24,
     "metadata": {},
     "output_type": "execute_result"
    }
   ],
   "source": [
    "# percentage of trips taken by customers\n",
    "percentage(num_customer_trips, total_num_trips)"
   ]
  },
  {
   "cell_type": "markdown",
   "metadata": {},
   "source": [
    "## Fact \\# 2\n",
    "We also know that one-way trips constitutes 96% of all trips, and subscribers in general tend to take one-way trips more often than customers."
   ]
  },
  {
   "cell_type": "code",
   "execution_count": 15,
   "metadata": {},
   "outputs": [
    {
     "name": "stdout",
     "output_type": "stream",
     "text": [
      "Waiting on bqjob_r5fe08cbf7527e239_00000161bc1d6405_1 ... (1s) Current status: DONE   \n",
      "+-------------------------+------------------------------+----------------------------+\n",
      "| total_num_one_way_trips | num_subscriber_one_way_trips | num_customer_one_way_trips |\n",
      "+-------------------------+------------------------------+----------------------------+\n",
      "|                  951601 |                       836945 |                     114656 |\n",
      "+-------------------------+------------------------------+----------------------------+\n"
     ]
    }
   ],
   "source": [
    "! bq query --use_legacy_sql=FALSE '\\\n",
    "SELECT \\\n",
    "  COUNT(*) AS total_num_one_way_trips, \\\n",
    "  SUM(CASE WHEN subscriber_type = \"Subscriber\" THEN 1 ELSE 0 end) AS num_subscriber_one_way_trips, \\\n",
    "  SUM(CASE WHEN subscriber_type = \"Customer\" THEN 1 ELSE 0 END) AS num_customer_one_way_trips \\\n",
    "FROM \\\n",
    " `bigquery-public-data.san_francisco.bikeshare_trips` \\\n",
    "WHERE \\\n",
    "  start_station_id <> end_station_id; \\\n",
    "'"
   ]
  },
  {
   "cell_type": "code",
   "execution_count": 25,
   "metadata": {},
   "outputs": [],
   "source": [
    "total_num_one_way_trips = 951601\n",
    "num_subscriber_one_way_trips = 836945\n",
    "num_customer_one_way_trips = 114656"
   ]
  },
  {
   "cell_type": "code",
   "execution_count": 26,
   "metadata": {},
   "outputs": [
    {
     "data": {
      "text/plain": [
       "96.7420256026546"
      ]
     },
     "execution_count": 26,
     "metadata": {},
     "output_type": "execute_result"
    }
   ],
   "source": [
    "# percentage of trips that are one-way trips\n",
    "percentage(total_num_one_way_trips, total_num_trips)"
   ]
  },
  {
   "cell_type": "code",
   "execution_count": 31,
   "metadata": {},
   "outputs": [
    {
     "data": {
      "text/plain": [
       "85.08582338397476"
      ]
     },
     "execution_count": 31,
     "metadata": {},
     "output_type": "execute_result"
    }
   ],
   "source": [
    "# percentage of trips taken by subscribers that are one-way\n",
    "percentage(num_subscriber_one_way_trips, total_num_trips)"
   ]
  },
  {
   "cell_type": "code",
   "execution_count": 32,
   "metadata": {},
   "outputs": [
    {
     "data": {
      "text/plain": [
       "11.656202218679853"
      ]
     },
     "execution_count": 32,
     "metadata": {},
     "output_type": "execute_result"
    }
   ],
   "source": [
    "# percentage of trips taken by customers that are one-way\n",
    "percentage(num_customer_one_way_trips, total_num_trips)"
   ]
  },
  {
   "cell_type": "code",
   "execution_count": 27,
   "metadata": {},
   "outputs": [
    {
     "data": {
      "text/plain": [
       "87.95125267838097"
      ]
     },
     "execution_count": 27,
     "metadata": {},
     "output_type": "execute_result"
    }
   ],
   "source": [
    "# percentage of one-way trips taken by subscribers\n",
    "percentage(num_subscriber_one_way_trips, total_num_one_way_trips)"
   ]
  },
  {
   "cell_type": "code",
   "execution_count": 28,
   "metadata": {},
   "outputs": [
    {
     "data": {
      "text/plain": [
       "12.04874732161904"
      ]
     },
     "execution_count": 28,
     "metadata": {},
     "output_type": "execute_result"
    }
   ],
   "source": [
    "# percentage of one-way trips taken by customers\n",
    "percentage(num_customer_one_way_trips, total_num_one_way_trips)"
   ]
  },
  {
   "cell_type": "code",
   "execution_count": 29,
   "metadata": {},
   "outputs": [
    {
     "data": {
      "text/plain": [
       "98.83165513161298"
      ]
     },
     "execution_count": 29,
     "metadata": {},
     "output_type": "execute_result"
    }
   ],
   "source": [
    "# percentage of all subscriber trips that are one-way \n",
    "percentage(num_subscriber_one_way_trips, num_subscriber_trips)"
   ]
  },
  {
   "cell_type": "code",
   "execution_count": 30,
   "metadata": {
    "scrolled": true
   },
   "outputs": [
    {
     "data": {
      "text/plain": [
       "83.80735185550658"
      ]
     },
     "execution_count": 30,
     "metadata": {},
     "output_type": "execute_result"
    }
   ],
   "source": [
    "# percentage of all customer trips that are one-way\n",
    "percentage(num_customer_one_way_trips, num_customer_trips)"
   ]
  },
  {
   "cell_type": "markdown",
   "metadata": {},
   "source": [
    "## Fact \\# 3\n",
    "\n",
    "On average, customers (62 minutes) tend to bike longer than subscribers (10 minutes). Interesting to note is that the length of time customers rent the bikes vary widely when you compare it to the length of time subscribers rent the bikes. It might be partially due to the outliers in the data. For example, the longest time a customer ever rent a bike is 200 days compared to that of a subscriber at 21 days. \n",
    "\n",
    "Since I was not able to download all of the data into a CSV because of the sheer volume, I was not able to confirmed whether or not the data have a skewed distribution."
   ]
  },
  {
   "cell_type": "code",
   "execution_count": 117,
   "metadata": {
    "scrolled": true
   },
   "outputs": [
    {
     "name": "stdout",
     "output_type": "stream",
     "text": [
      "Waiting on bqjob_r347254b14ff4acb5_00000161bc8d0408_1 ... (23s) Current status: DONE   \n",
      "+-----------------+---------------------------+----------------------+-----------------------+-----------------------+\n",
      "| subscriber_type | average_trip_duration_min | sd_trip_duration_min | min_trip_duration_min | max_trip_duration_min |\n",
      "+-----------------+---------------------------+----------------------+-----------------------+-----------------------+\n",
      "| Customer        |         61.97975267221685 |    812.8085318495606 |                   1.0 |              287840.0 |\n",
      "| Subscriber      |         9.712737328662122 |    48.24265348752558 |                   1.0 |               30876.5 |\n",
      "+-----------------+---------------------------+----------------------+-----------------------+-----------------------+\n"
     ]
    }
   ],
   "source": [
    "! bq query --use_legacy_sql=FALSE '\\\n",
    "SELECT \\\n",
    "  subscriber_type, \\\n",
    "  AVG(duration_sec/60) AS average_trip_duration_min, \\\n",
    "  STDDEV(duration_sec/60) AS sd_trip_duration_min, \\\n",
    "  MIN(duration_sec/60) AS min_trip_duration_min, \\\n",
    "  MAX(duration_sec/60) AS max_trip_duration_min \\\n",
    "FROM \\\n",
    " `bigquery-public-data.san_francisco.bikeshare_trips` \\\n",
    "GROUP BY \\\n",
    "  subscriber_type; \\\n",
    "'"
   ]
  },
  {
   "cell_type": "code",
   "execution_count": 128,
   "metadata": {},
   "outputs": [
    {
     "data": {
      "text/plain": [
       "\"Subscriber's 95% CI: (-84.84286350688802, 104.26833816421225)\""
      ]
     },
     "execution_count": 128,
     "metadata": {},
     "output_type": "execute_result"
    }
   ],
   "source": [
    "# 95% confidence interval for the subscriber's trip duration\n",
    "subscriber_mean = 9.712737328662122\n",
    "subscriber_sd = 48.24265348752558\n",
    "\"Subscriber's 95% CI: ({}, {})\".format(subscriber_mean - 1.96 * subscriber_sd, subscriber_mean + 1.96 * subscriber_sd)"
   ]
  },
  {
   "cell_type": "code",
   "execution_count": 129,
   "metadata": {
    "scrolled": true
   },
   "outputs": [
    {
     "data": {
      "text/plain": [
       "\"Customer's 95% CI: (-1531.124969752922, 1655.0844750973556)\""
      ]
     },
     "execution_count": 129,
     "metadata": {},
     "output_type": "execute_result"
    }
   ],
   "source": [
    "# 95% confidence interval for the customer's trip duration\n",
    "customer_mean = 61.97975267221685\n",
    "customer_sd = 812.8085318495606\n",
    "\"Customer's 95% CI: ({}, {})\".format(customer_mean - 1.96 * customer_sd, customer_mean + 1.96 * customer_sd)"
   ]
  },
  {
   "cell_type": "code",
   "execution_count": 121,
   "metadata": {},
   "outputs": [
    {
     "data": {
      "text/plain": [
       "21.441666666666666"
      ]
     },
     "execution_count": 121,
     "metadata": {},
     "output_type": "execute_result"
    }
   ],
   "source": [
    "# number of days for the max duration trip of a subscriber\n",
    "30876/(60*24)"
   ]
  },
  {
   "cell_type": "code",
   "execution_count": 120,
   "metadata": {
    "scrolled": false
   },
   "outputs": [
    {
     "data": {
      "text/plain": [
       "199.88888888888889"
      ]
     },
     "execution_count": 120,
     "metadata": {},
     "output_type": "execute_result"
    }
   ],
   "source": [
    "# number of days for the max duration trip of a customer\n",
    "287840/(60*24)"
   ]
  },
  {
   "cell_type": "code",
   "execution_count": 124,
   "metadata": {},
   "outputs": [
    {
     "data": {
      "text/plain": [
       "\"Subscriber's (Q1, Q3): (-22.851053775417647, 42.27652843274189)\""
      ]
     },
     "execution_count": 124,
     "metadata": {},
     "output_type": "execute_result"
    }
   ],
   "source": [
    "# q1 and q3 for subscriber\n",
    "\"Subscriber's (Q1, Q3): ({}, {})\".format(subscriber_mean - subscriber_sd * 0.675, \n",
    "                                         subscriber_mean + subscriber_sd * 0.675)"
   ]
  },
  {
   "cell_type": "code",
   "execution_count": 125,
   "metadata": {},
   "outputs": [
    {
     "data": {
      "text/plain": [
       "\"Customer's (Q1, Q3): (-486.6660063262366, 610.6255116706702)\""
      ]
     },
     "execution_count": 125,
     "metadata": {},
     "output_type": "execute_result"
    }
   ],
   "source": [
    "# q1 and q3 for customer\n",
    "\"Customer's (Q1, Q3): ({}, {})\".format(customer_mean - customer_sd * 0.675, \n",
    "                                         customer_mean + customer_sd * 0.675)"
   ]
  },
  {
   "cell_type": "markdown",
   "metadata": {},
   "source": [
    "## Fact \\# 4\n",
    "Nearly all subscribers take trips that are 30 minutes or less. Only 69% of all customers take trips that are 30 minutes or less. "
   ]
  },
  {
   "cell_type": "code",
   "execution_count": 132,
   "metadata": {},
   "outputs": [
    {
     "name": "stdout",
     "output_type": "stream",
     "text": [
      "Waiting on bqjob_r79987df4eab1cd94_00000161bca9cb7e_1 ... (0s) Current status: DONE   \n",
      "+--------------------------------+-------------------------------------+-----------------------------------+\n",
      "| total_num_30_min_or_less_trips | num_subscriber_30_min_or_less_trips | num_customer_30_min_or_less_trips |\n",
      "+--------------------------------+-------------------------------------+-----------------------------------+\n",
      "|                         936311 |                              841515 |                             94796 |\n",
      "+--------------------------------+-------------------------------------+-----------------------------------+\n"
     ]
    }
   ],
   "source": [
    "! bq query --use_legacy_sql=FALSE '\\\n",
    "SELECT \\\n",
    "  COUNT(*) AS total_num_30_min_or_less_trips, \\\n",
    "  SUM(CASE WHEN subscriber_type = \"Subscriber\" THEN 1 ELSE 0 end) AS num_subscriber_30_min_or_less_trips, \\\n",
    "  SUM(CASE WHEN subscriber_type = \"Customer\" THEN 1 ELSE 0 END) AS num_customer_30_min_or_less_trips \\\n",
    "FROM \\\n",
    " `bigquery-public-data.san_francisco.bikeshare_trips` \\\n",
    "WHERE \\\n",
    "  duration_sec/60 <= 30; \\\n",
    "'"
   ]
  },
  {
   "cell_type": "code",
   "execution_count": 133,
   "metadata": {},
   "outputs": [],
   "source": [
    "total_num_30_min_or_less_trips = 936311\n",
    "num_subscriber_30_min_or_less_trips = 841515\n",
    "num_customer_30_min_or_less_trips = 94796"
   ]
  },
  {
   "cell_type": "code",
   "execution_count": 134,
   "metadata": {},
   "outputs": [
    {
     "data": {
      "text/plain": [
       "95.18760776212629"
      ]
     },
     "execution_count": 134,
     "metadata": {},
     "output_type": "execute_result"
    }
   ],
   "source": [
    "# percentage of trips that are 30-min or less trips\n",
    "percentage(total_num_30_min_or_less_trips, total_num_trips)"
   ]
  },
  {
   "cell_type": "code",
   "execution_count": 135,
   "metadata": {},
   "outputs": [
    {
     "data": {
      "text/plain": [
       "85.5504204756173"
      ]
     },
     "execution_count": 135,
     "metadata": {},
     "output_type": "execute_result"
    }
   ],
   "source": [
    "# percentage of trips taken by subscribers that are 30-min or less\n",
    "percentage(num_subscriber_30_min_or_less_trips, total_num_trips)"
   ]
  },
  {
   "cell_type": "code",
   "execution_count": 136,
   "metadata": {},
   "outputs": [
    {
     "data": {
      "text/plain": [
       "9.637187286508995"
      ]
     },
     "execution_count": 136,
     "metadata": {},
     "output_type": "execute_result"
    }
   ],
   "source": [
    "# percentage of trips taken by customers that are 30-min or less\n",
    "percentage(num_customer_30_min_or_less_trips, total_num_trips)"
   ]
  },
  {
   "cell_type": "code",
   "execution_count": 137,
   "metadata": {},
   "outputs": [
    {
     "data": {
      "text/plain": [
       "89.87558621013744"
      ]
     },
     "execution_count": 137,
     "metadata": {},
     "output_type": "execute_result"
    }
   ],
   "source": [
    "# percentage of 30-min or less trips taken by subscribers\n",
    "percentage(num_subscriber_30_min_or_less_trips, total_num_30_min_or_less_trips)"
   ]
  },
  {
   "cell_type": "code",
   "execution_count": 138,
   "metadata": {},
   "outputs": [
    {
     "data": {
      "text/plain": [
       "10.124413789862556"
      ]
     },
     "execution_count": 138,
     "metadata": {},
     "output_type": "execute_result"
    }
   ],
   "source": [
    "# percentage of 30-min or less trips taken by customers\n",
    "percentage(num_customer_30_min_or_less_trips, total_num_30_min_or_less_trips)"
   ]
  },
  {
   "cell_type": "code",
   "execution_count": 139,
   "metadata": {},
   "outputs": [
    {
     "data": {
      "text/plain": [
       "99.3713090681936"
      ]
     },
     "execution_count": 139,
     "metadata": {},
     "output_type": "execute_result"
    }
   ],
   "source": [
    "# percentage of all subscriber trips that are 30-min or less\n",
    "percentage(num_subscriber_30_min_or_less_trips, num_subscriber_trips)"
   ]
  },
  {
   "cell_type": "code",
   "execution_count": 140,
   "metadata": {},
   "outputs": [
    {
     "data": {
      "text/plain": [
       "69.29076303459568"
      ]
     },
     "execution_count": 140,
     "metadata": {},
     "output_type": "execute_result"
    }
   ],
   "source": [
    "# percentage of all customers trips that are 30-min or less\n",
    "percentage(num_customer_30_min_or_less_trips, num_customer_trips)"
   ]
  },
  {
   "cell_type": "markdown",
   "metadata": {},
   "source": [
    "## Fact \\# 5\n",
    "Assuming that we defined:\n",
    "* morning as 7 AM - 12 PM\n",
    "* afternoon as 12 PM - 5 PM\n",
    "* evening as 5 PM - 12 AM\n",
    "* night as 12 AM - 7 PM\n",
    "\n",
    "I noticed that ridership is lowest in the evening for both subscribers and customers. "
   ]
  },
  {
   "cell_type": "code",
   "execution_count": 167,
   "metadata": {
    "scrolled": false
   },
   "outputs": [
    {
     "name": "stdout",
     "output_type": "stream",
     "text": [
      "Waiting on bqjob_rae8d44e86bcdf0f_00000161bcd6907d_1 ... (2s) Current status: DONE   \n",
      "+-----------------+-------------------+---------------------+-------------------+-----------------+\n",
      "| subscriber_type | num_morning_trips | num_afternoon_trips | num_evening_trips | num_night_trips |\n",
      "+-----------------+-------------------+---------------------+-------------------+-----------------+\n",
      "| Customer        |             51756 |               15111 |              3781 |           50639 |\n",
      "| Subscriber      |            329602 |               76435 |             48444 |          402128 |\n",
      "+-----------------+-------------------+---------------------+-------------------+-----------------+\n"
     ]
    }
   ],
   "source": [
    "! bq query --use_legacy_sql=FALSE '\\\n",
    "SELECT \\\n",
    "  morning.subscriber_type, \\\n",
    "  morning.num_morning_trips, \\\n",
    "  afternoon.num_afternoon_trips, \\\n",
    "  evening.num_evening_trips, \\\n",
    "  night.num_night_trips \\\n",
    "FROM \\\n",
    "( \\\n",
    "  SELECT \\\n",
    "    subscriber_type, \\\n",
    "    COUNT (*) AS num_morning_trips \\\n",
    "  FROM \\\n",
    "    `bigquery-public-data.san_francisco.bikeshare_trips` \\\n",
    "  WHERE \\\n",
    "    DATE(start_date) = DATE(end_date) \\\n",
    "    AND EXTRACT(HOUR FROM start_date AT TIME ZONE \"America/Los_Angeles\") >= 7 \\\n",
    "    AND EXTRACT(HOUR FROM end_date AT TIME ZONE \"America/Los_Angeles\") < 12 \\\n",
    "  GROUP BY \\\n",
    "    subscriber_type \\\n",
    ") AS morning \\\n",
    "JOIN \\\n",
    "( \\\n",
    "  SELECT \\\n",
    "    subscriber_type, \\\n",
    "    COUNT (*) AS num_afternoon_trips \\\n",
    "  FROM \\\n",
    "    `bigquery-public-data.san_francisco.bikeshare_trips` \\\n",
    "  WHERE \\\n",
    "    DATE(start_date) = DATE(end_date) \\\n",
    "    AND EXTRACT(HOUR FROM start_date AT TIME ZONE \"America/Los_Angeles\") >= 12 \\\n",
    "    AND EXTRACT(HOUR FROM end_date AT TIME ZONE \"America/Los_Angeles\") < 17 \\\n",
    "  GROUP BY \\\n",
    "    subscriber_type \\\n",
    ") AS afternoon \\\n",
    "ON \\\n",
    "  morning.subscriber_type = afternoon.subscriber_type \\\n",
    "JOIN \\\n",
    "( \\\n",
    "  SELECT \\\n",
    "    subscriber_type, \\\n",
    "    COUNT (*) AS num_evening_trips \\\n",
    "  FROM \\\n",
    "    `bigquery-public-data.san_francisco.bikeshare_trips` \\\n",
    "  WHERE \\\n",
    "    DATE(start_date) = DATE(end_date) \\\n",
    "    AND EXTRACT(HOUR FROM start_date AT TIME ZONE \"America/Los_Angeles\") >= 17 \\\n",
    "    AND EXTRACT(HOUR FROM end_date AT TIME ZONE \"America/Los_Angeles\") < 24 \\\n",
    "  GROUP BY \\\n",
    "    subscriber_type \\\n",
    ") AS evening \\\n",
    "ON \\\n",
    "  morning.subscriber_type = evening.subscriber_type \\\n",
    "JOIN \\\n",
    "( \\\n",
    "  SELECT \\\n",
    "    subscriber_type, \\\n",
    "    COUNT (*) AS num_night_trips \\\n",
    "  FROM \\\n",
    "    `bigquery-public-data.san_francisco.bikeshare_trips` \\\n",
    "  WHERE \\\n",
    "    DATE(start_date) = DATE(end_date) \\\n",
    "    AND EXTRACT(HOUR FROM start_date AT TIME ZONE \"America/Los_Angeles\") >= 0 \\\n",
    "    AND EXTRACT(HOUR FROM end_date AT TIME ZONE \"America/Los_Angeles\") < 7 \\\n",
    "  GROUP BY \\\n",
    "    subscriber_type \\\n",
    ") AS night \\\n",
    "ON \\\n",
    "  morning.subscriber_type = night.subscriber_type \\\n",
    "'"
   ]
  },
  {
   "cell_type": "code",
   "execution_count": 168,
   "metadata": {},
   "outputs": [],
   "source": [
    "num_subscriber_morning_trips = 329602\n",
    "num_subscriber_afternoon_trips = 76435\n",
    "num_subscriber_evening_trips = 48444\n",
    "num_subscriber_night_trips = 402128\n",
    "num_customer_morning_trips = 51756\n",
    "num_customer_afternoon_trips = 15111\n",
    "num_customer_evening_trips = 3781\n",
    "num_customer_night_trips = 50639"
   ]
  },
  {
   "cell_type": "code",
   "execution_count": 177,
   "metadata": {},
   "outputs": [
    {
     "data": {
      "text/plain": [
       "38.921447878522365"
      ]
     },
     "execution_count": 177,
     "metadata": {},
     "output_type": "execute_result"
    }
   ],
   "source": [
    "# percentage of all subscriber trips that are in the morning\n",
    "percentage(num_subscriber_morning_trips, num_subscriber_trips)"
   ]
  },
  {
   "cell_type": "code",
   "execution_count": 178,
   "metadata": {},
   "outputs": [
    {
     "data": {
      "text/plain": [
       "9.025918740161943"
      ]
     },
     "execution_count": 178,
     "metadata": {},
     "output_type": "execute_result"
    }
   ],
   "source": [
    "# percentage of all subscriber trips that are in the afternoon\n",
    "percentage(num_subscriber_afternoon_trips, num_subscriber_trips)"
   ]
  },
  {
   "cell_type": "code",
   "execution_count": 179,
   "metadata": {},
   "outputs": [
    {
     "data": {
      "text/plain": [
       "5.720567900155755"
      ]
     },
     "execution_count": 179,
     "metadata": {},
     "output_type": "execute_result"
    }
   ],
   "source": [
    "# percentage of all subscriber trips that are in the evening\n",
    "percentage(num_subscriber_evening_trips, num_subscriber_trips)"
   ]
  },
  {
   "cell_type": "code",
   "execution_count": 180,
   "metadata": {},
   "outputs": [
    {
     "data": {
      "text/plain": [
       "47.48576766067694"
      ]
     },
     "execution_count": 180,
     "metadata": {},
     "output_type": "execute_result"
    }
   ],
   "source": [
    "# percentage of all subscriber trips that are at night\n",
    "percentage(num_subscriber_night_trips, num_subscriber_trips)"
   ]
  },
  {
   "cell_type": "code",
   "execution_count": 181,
   "metadata": {},
   "outputs": [
    {
     "data": {
      "text/plain": [
       "37.83084446198715"
      ]
     },
     "execution_count": 181,
     "metadata": {},
     "output_type": "execute_result"
    }
   ],
   "source": [
    "# percentage of all customer trips that are in the morning\n",
    "percentage(num_customer_morning_trips, num_customer_trips)"
   ]
  },
  {
   "cell_type": "code",
   "execution_count": 182,
   "metadata": {},
   "outputs": [
    {
     "data": {
      "text/plain": [
       "11.045325965397014"
      ]
     },
     "execution_count": 182,
     "metadata": {},
     "output_type": "execute_result"
    }
   ],
   "source": [
    "# percentage of all customer trips that are in the afternoon\n",
    "percentage(num_customer_afternoon_trips, num_customer_trips)"
   ]
  },
  {
   "cell_type": "code",
   "execution_count": 183,
   "metadata": {},
   "outputs": [
    {
     "data": {
      "text/plain": [
       "2.763707066055596"
      ]
     },
     "execution_count": 183,
     "metadata": {},
     "output_type": "execute_result"
    }
   ],
   "source": [
    "# percentage of all customer trips that are in the evening\n",
    "percentage(num_customer_evening_trips, num_customer_trips)"
   ]
  },
  {
   "cell_type": "code",
   "execution_count": 184,
   "metadata": {},
   "outputs": [
    {
     "data": {
      "text/plain": [
       "37.014377709068846"
      ]
     },
     "execution_count": 184,
     "metadata": {},
     "output_type": "execute_result"
    }
   ],
   "source": [
    "# percentage of all customer trips that are at night\n",
    "percentage(num_customer_night_trips, num_customer_trips)"
   ]
  },
  {
   "cell_type": "markdown",
   "metadata": {},
   "source": [
    "## Fact \\# 6\n",
    "The number of riderships appear to be the lowest in winter season (November - February), in particular during December. "
   ]
  },
  {
   "cell_type": "code",
   "execution_count": 197,
   "metadata": {},
   "outputs": [
    {
     "name": "stdout",
     "output_type": "stream",
     "text": [
      "Waiting on bqjob_r7cb347d876b13819_00000161bce6e4ff_1 ... (1s) Current status: DONE   \n",
      "+--------+-----------------+----------------------+--------------------+-----------------------+---------------------+\n",
      "| months | total_num_trips | num_subscriber_trips | num_customer_trips | subscriber_percentage | customer_percentage |\n",
      "+--------+-----------------+----------------------+--------------------+-----------------------+---------------------+\n",
      "|      1 |           71852 |                64184 |               7668 |     89.32806324110672 |   10.67193675889328 |\n",
      "|      2 |           70041 |                62162 |               7879 |         88.7508744878 |  11.249125512199997 |\n",
      "|      3 |           81681 |                71544 |              10137 |     87.58952510375731 |    12.4104748962427 |\n",
      "|      4 |           84186 |                74201 |               9985 |     88.13935808804314 |  11.860641911956856 |\n",
      "|      5 |           86351 |                73611 |              12740 |     85.24626234785931 |   14.75373765214068 |\n",
      "|      6 |           91709 |                79562 |              12147 |     86.75484412653066 |  13.245155873469344 |\n",
      "|      7 |           89501 |                76350 |              13151 |     85.30630942671031 |  14.693690573289683 |\n",
      "|      8 |           95577 |                80022 |              15555 |     83.72516400389215 |   16.27483599610785 |\n",
      "|      9 |           87381 |                70078 |              17303 |     80.19821242604228 |  19.801787573957725 |\n",
      "|     10 |           94297 |                80259 |              14038 |      85.1129940507121 |  14.887005949287888 |\n",
      "|     11 |           73331 |                63960 |               9371 |     87.22095703045098 |  12.779042969549032 |\n",
      "|     12 |           57741 |                50906 |               6835 |     88.16265738383471 |   11.83734261616529 |\n",
      "+--------+-----------------+----------------------+--------------------+-----------------------+---------------------+\n"
     ]
    }
   ],
   "source": [
    "! bq query --use_legacy_sql=FALSE '\\\n",
    "SELECT *,  \\\n",
    "  (num_subscriber_trips / total_num_trips * 100) AS subscriber_percentage, \\\n",
    "  (num_customer_trips / total_num_trips * 100) AS customer_percentage \\\n",
    "FROM ( \\\n",
    "  SELECT \\\n",
    "    EXTRACT(MONTH FROM start_date AT TIME ZONE \"America/Los_Angeles\") AS months, \\\n",
    "    COUNT(*) AS total_num_trips, \\\n",
    "    SUM(CASE WHEN subscriber_type = \"Subscriber\" THEN 1 ELSE 0 end) AS num_subscriber_trips, \\\n",
    "    SUM(CASE WHEN subscriber_type = \"Customer\" THEN 1 ELSE 0 END) AS num_customer_trips \\\n",
    "  FROM \\\n",
    "    `bigquery-public-data.san_francisco.bikeshare_trips` \\\n",
    "  GROUP BY \\\n",
    "    months \\\n",
    "  ORDER BY \\\n",
    "    months \\\n",
    ") \\\n",
    "'"
   ]
  },
  {
   "cell_type": "markdown",
   "metadata": {},
   "source": [
    "## Fact \\# 7\n",
    "The least popular stations where most people pick up bikes are also the least popular stations where most people drop off the bikes. Station 88, 91, 89, 90, 21 are the least popular stations. Most of the least popular stations are in Redwood City. "
   ]
  },
  {
   "cell_type": "code",
   "execution_count": 222,
   "metadata": {
    "scrolled": false
   },
   "outputs": [
    {
     "name": "stdout",
     "output_type": "stream",
     "text": [
      "Waiting on bqjob_r61b51aad34a9edcd_00000161bd0abffb_1 ... (0s) Current status: DONE   \n",
      "+------------------+-----------------------------------------------+---------------+-------------+\n",
      "| start_station_id |                     name                      |   landmark    | num_pickups |\n",
      "+------------------+-----------------------------------------------+---------------+-------------+\n",
      "|               88 | 5th S. at E. San Salvador St                  | San Jose      |          20 |\n",
      "|               91 | Cyril Magnin St at Ellis St                   | San Francisco |          69 |\n",
      "|               89 | S. Market st at Park Ave                      | San Jose      |          84 |\n",
      "|               90 | 5th St at Folsom St                           | San Francisco |         173 |\n",
      "|               21 | Franklin at Maple                             | Redwood City  |         241 |\n",
      "|               24 | Redwood City Public Library                   | Redwood City  |         272 |\n",
      "|               23 | San Mateo County Center                       | Redwood City  |         373 |\n",
      "|               26 | Redwood City Medical Center                   | Redwood City  |         463 |\n",
      "|               83 | Mezes Park                                    | Redwood City  |         467 |\n",
      "|               25 | Stanford in Redwood City                      | Redwood City  |         931 |\n",
      "|               38 | Park at Olive                                 | Palo Alto     |        1026 |\n",
      "|               80 | Santa Clara County Civic Center               | San Jose      |        1283 |\n",
      "|               36 | California Ave Caltrain Station               | Palo Alto     |        1418 |\n",
      "|               33 | Charleston Park/ North Bayshore Area          | Mountain View |        1514 |\n",
      "|               12 | SJSU 4th at San Carlos                        | San Jose      |        1533 |\n",
      "|               30 | Middlefield Light Rail Station                | Mountain View |        1804 |\n",
      "|               16 | SJSU - San Salvador at 9th                    | San Jose      |        1954 |\n",
      "|               35 | University and Emerson                        | Palo Alto     |        2002 |\n",
      "|               14 | Arena Green / SAP Center                      | San Jose      |        2043 |\n",
      "|                5 | Adobe on Almaden                              | San Jose      |        2046 |\n",
      "|                3 | San Jose Civic Center                         | San Jose      |        2137 |\n",
      "|               37 | Cowper at University                          | Palo Alto     |        2162 |\n",
      "|                8 | San Salvador at 1st                           | San Jose      |        2232 |\n",
      "|               22 | Redwood City Caltrain Station                 | Redwood City  |        2249 |\n",
      "|               13 | St James Park                                 | San Jose      |        2374 |\n",
      "|               31 | San Antonio Shopping Center                   | Mountain View |        2377 |\n",
      "|               29 | San Antonio Caltrain Station                  | Mountain View |        2601 |\n",
      "|               84 | Ryland Park                                   | San Jose      |        2626 |\n",
      "|               11 | MLK Library                                   | San Jose      |        2664 |\n",
      "|                9 | Japantown                                     | San Jose      |        2855 |\n",
      "|               10 | San Jose City Hall                            | San Jose      |        2911 |\n",
      "|               32 | Castro Street and El Camino Real              | Mountain View |        3049 |\n",
      "|                7 | Paseo de San Antonio                          | San Jose      |        3066 |\n",
      "|               34 | Palo Alto Caltrain Station                    | Palo Alto     |        3281 |\n",
      "|                6 | San Pedro Square                              | San Jose      |        4132 |\n",
      "|               27 | Mountain View City Hall                       | Mountain View |        4275 |\n",
      "|                4 | Santa Clara at Almaden                        | San Jose      |        5308 |\n",
      "|               58 | San Francisco City Hall                       | San Francisco |        6730 |\n",
      "|               46 | Washington at Kearney                         | San Francisco |        8608 |\n",
      "|               28 | Mountain View Caltrain Station                | Mountain View |        9059 |\n",
      "|               59 | Golden Gate at Polk                           | San Francisco |       10651 |\n",
      "|                2 | San Jose Diridon Caltrain Station             | San Jose      |       13593 |\n",
      "|               47 | Post at Kearney                               | San Francisco |       13811 |\n",
      "|               41 | Clay at Battery                               | San Francisco |       14351 |\n",
      "|               68 | Yerba Buena Center of the Arts (3rd @ Howard) | San Francisco |       14711 |\n",
      "|               42 | Davis at Jackson                              | San Francisco |       15197 |\n",
      "|               48 | Embarcadero at Vallejo                        | San Francisco |       15302 |\n",
      "|               82 | Broadway St at Battery St                     | San Francisco |       16005 |\n",
      "|               45 | Commercial at Montgomery                      | San Francisco |       16857 |\n",
      "|               71 | Powell at Post (Union Square)                 | San Francisco |       16984 |\n",
      "|               49 | Spear at Folsom                               | San Francisco |       17062 |\n",
      "|               75 | Mechanics Plaza (Market at Battery)           | San Francisco |       17837 |\n",
      "|               66 | South Van Ness at Market                      | San Francisco |       18278 |\n",
      "|               57 | 5th at Howard                                 | San Francisco |       18962 |\n",
      "|               72 | Civic Center BART (7th at Market)             | San Francisco |       19145 |\n",
      "|               63 | Howard at 2nd                                 | San Francisco |       20746 |\n",
      "|               51 | Embarcadero at Folsom                         | San Francisco |       21874 |\n",
      "|               54 | Embarcadero at Bryant                         | San Francisco |       22525 |\n",
      "|               73 | Grant Avenue at Columbus Avenue               | San Francisco |       23041 |\n",
      "|               56 | Beale at Market                               | San Francisco |       23082 |\n",
      "|               62 | 2nd at Folsom                                 | San Francisco |       23404 |\n",
      "|               39 | Powell Street BART                            | San Francisco |       25204 |\n",
      "|               64 | 2nd at South Park                             | San Francisco |       26218 |\n",
      "|               76 | Market at 4th                                 | San Francisco |       27502 |\n",
      "|               67 | Market at 10th                                | San Francisco |       30209 |\n",
      "|               65 | Townsend at 7th                               | San Francisco |       34894 |\n",
      "|               77 | Market at Sansome                             | San Francisco |       35142 |\n",
      "|               74 | Steuart at Market                             | San Francisco |       38531 |\n",
      "|               55 | Temporary Transbay Terminal (Howard at Beale) | San Francisco |       39200 |\n",
      "|               61 | 2nd at Townsend                               | San Francisco |       39936 |\n",
      "|               60 | Embarcadero at Sansome                        | San Francisco |       41137 |\n",
      "|               50 | Harry Bridges Plaza (Ferry Building)          | San Francisco |       49062 |\n",
      "|               69 | San Francisco Caltrain 2 (330 Townsend)       | San Francisco |       56100 |\n",
      "|               70 | San Francisco Caltrain (Townsend at 4th)      | San Francisco |       72683 |\n",
      "+------------------+-----------------------------------------------+---------------+-------------+\n"
     ]
    }
   ],
   "source": [
    "# least popular start_station_id\n",
    "! bq query --use_legacy_sql=FALSE '\\\n",
    "SELECT \\\n",
    "  a.start_station_id, \\\n",
    "  b.name, \\\n",
    "  b.landmark, \\\n",
    "  a.num_pickups \\\n",
    "FROM \\\n",
    "( \\\n",
    "  SELECT \\\n",
    "    start_station_id, \\\n",
    "    COUNT(*) AS num_pickups \\\n",
    "  FROM \\\n",
    "    `bigquery-public-data.san_francisco.bikeshare_trips` \\\n",
    "  GROUP BY \\\n",
    "    start_station_id \\\n",
    "  ORDER BY \\\n",
    "    num_pickups \\\n",
    ") AS a \\\n",
    "JOIN \\\n",
    "( \\\n",
    "  SELECT \\\n",
    "    station_id, \\\n",
    "    name, \\\n",
    "    landmark \\\n",
    "  FROM \\\n",
    "  `bigquery-public-data.san_francisco.bikeshare_stations` \\\n",
    ") AS b \\\n",
    "ON \\\n",
    "  a.start_station_id = b.station_id \\\n",
    "ORDER BY \\\n",
    "  a.num_pickups'"
   ]
  },
  {
   "cell_type": "code",
   "execution_count": 223,
   "metadata": {},
   "outputs": [
    {
     "name": "stdout",
     "output_type": "stream",
     "text": [
      "Waiting on bqjob_r4b0d9d8f4ff8e3c5_00000161bd0b3694_1 ... (0s) Current status: DONE   \n",
      "+----------------+-----------------------------------------------+---------------+--------------+\n",
      "| end_station_id |                     name                      |   landmark    | num_dropoffs |\n",
      "+----------------+-----------------------------------------------+---------------+--------------+\n",
      "|             88 | 5th S. at E. San Salvador St                  | San Jose      |           25 |\n",
      "|             91 | Cyril Magnin St at Ellis St                   | San Francisco |           68 |\n",
      "|             89 | S. Market st at Park Ave                      | San Jose      |          103 |\n",
      "|             90 | 5th St at Folsom St                           | San Francisco |          151 |\n",
      "|             21 | Franklin at Maple                             | Redwood City  |          278 |\n",
      "|             24 | Redwood City Public Library                   | Redwood City  |          344 |\n",
      "|             83 | Mezes Park                                    | Redwood City  |          401 |\n",
      "|             23 | San Mateo County Center                       | Redwood City  |          454 |\n",
      "|             26 | Redwood City Medical Center                   | Redwood City  |          572 |\n",
      "|             25 | Stanford in Redwood City                      | Redwood City  |          998 |\n",
      "|             38 | Park at Olive                                 | Palo Alto     |         1073 |\n",
      "|             80 | Santa Clara County Civic Center               | San Jose      |         1182 |\n",
      "|             33 | Charleston Park/ North Bayshore Area          | Mountain View |         1490 |\n",
      "|             30 | Middlefield Light Rail Station                | Mountain View |         1539 |\n",
      "|             36 | California Ave Caltrain Station               | Palo Alto     |         1764 |\n",
      "|             12 | SJSU 4th at San Carlos                        | San Jose      |         1807 |\n",
      "|             22 | Redwood City Caltrain Station                 | Redwood City  |         1870 |\n",
      "|             37 | Cowper at University                          | Palo Alto     |         1888 |\n",
      "|             14 | Arena Green / SAP Center                      | San Jose      |         1908 |\n",
      "|             16 | SJSU - San Salvador at 9th                    | San Jose      |         1920 |\n",
      "|              5 | Adobe on Almaden                              | San Jose      |         1929 |\n",
      "|             10 | San Jose City Hall                            | San Jose      |         2109 |\n",
      "|             13 | St James Park                                 | San Jose      |         2147 |\n",
      "|              8 | San Salvador at 1st                           | San Jose      |         2307 |\n",
      "|             35 | University and Emerson                        | Palo Alto     |         2351 |\n",
      "|             84 | Ryland Park                                   | San Jose      |         2384 |\n",
      "|              3 | San Jose Civic Center                         | San Jose      |         2433 |\n",
      "|             31 | San Antonio Shopping Center                   | Mountain View |         2440 |\n",
      "|             29 | San Antonio Caltrain Station                  | Mountain View |         2621 |\n",
      "|             32 | Castro Street and El Camino Real              | Mountain View |         2735 |\n",
      "|             34 | Palo Alto Caltrain Station                    | Palo Alto     |         2847 |\n",
      "|              9 | Japantown                                     | San Jose      |         3106 |\n",
      "|             11 | MLK Library                                   | San Jose      |         3133 |\n",
      "|              7 | Paseo de San Antonio                          | San Jose      |         3434 |\n",
      "|              6 | San Pedro Square                              | San Jose      |         4469 |\n",
      "|             27 | Mountain View City Hall                       | Mountain View |         4651 |\n",
      "|              4 | Santa Clara at Almaden                        | San Jose      |         5158 |\n",
      "|             58 | San Francisco City Hall                       | San Francisco |         5269 |\n",
      "|             59 | Golden Gate at Polk                           | San Francisco |         8617 |\n",
      "|             28 | Mountain View Caltrain Station                | Mountain View |         9231 |\n",
      "|             46 | Washington at Kearney                         | San Francisco |        10426 |\n",
      "|             71 | Powell at Post (Union Square)                 | San Francisco |        11805 |\n",
      "|             73 | Grant Avenue at Columbus Avenue               | San Francisco |        12846 |\n",
      "|              2 | San Jose Diridon Caltrain Station             | San Jose      |        13315 |\n",
      "|             47 | Post at Kearney                               | San Francisco |        13511 |\n",
      "|             62 | 2nd at Folsom                                 | San Francisco |        13929 |\n",
      "|             82 | Broadway St at Battery St                     | San Francisco |        14095 |\n",
      "|             41 | Clay at Battery                               | San Francisco |        14196 |\n",
      "|             66 | South Van Ness at Market                      | San Francisco |        15803 |\n",
      "|             68 | Yerba Buena Center of the Arts (3rd @ Howard) | San Francisco |        16108 |\n",
      "|             42 | Davis at Jackson                              | San Francisco |        16299 |\n",
      "|             45 | Commercial at Montgomery                      | San Francisco |        16393 |\n",
      "|             49 | Spear at Folsom                               | San Francisco |        16697 |\n",
      "|             48 | Embarcadero at Vallejo                        | San Francisco |        17620 |\n",
      "|             75 | Mechanics Plaza (Market at Battery)           | San Francisco |        17724 |\n",
      "|             56 | Beale at Market                               | San Francisco |        18005 |\n",
      "|             72 | Civic Center BART (7th at Market)             | San Francisco |        18999 |\n",
      "|             54 | Embarcadero at Bryant                         | San Francisco |        19454 |\n",
      "|             57 | 5th at Howard                                 | San Francisco |        21162 |\n",
      "|             51 | Embarcadero at Folsom                         | San Francisco |        21297 |\n",
      "|             63 | Howard at 2nd                                 | San Francisco |        21615 |\n",
      "|             64 | 2nd at South Park                             | San Francisco |        23895 |\n",
      "|             67 | Market at 10th                                | San Francisco |        25910 |\n",
      "|             39 | Powell Street BART                            | San Francisco |        26746 |\n",
      "|             76 | Market at 4th                                 | San Francisco |        26762 |\n",
      "|             55 | Temporary Transbay Terminal (Howard at Beale) | San Francisco |        35477 |\n",
      "|             65 | Townsend at 7th                               | San Francisco |        38545 |\n",
      "|             74 | Steuart at Market                             | San Francisco |        39598 |\n",
      "|             77 | Market at Sansome                             | San Francisco |        40956 |\n",
      "|             61 | 2nd at Townsend                               | San Francisco |        44145 |\n",
      "|             60 | Embarcadero at Sansome                        | San Francisco |        46197 |\n",
      "|             50 | Harry Bridges Plaza (Ferry Building)          | San Francisco |        50185 |\n",
      "|             69 | San Francisco Caltrain 2 (330 Townsend)       | San Francisco |        58713 |\n",
      "|             70 | San Francisco Caltrain (Townsend at 4th)      | San Francisco |        92014 |\n",
      "+----------------+-----------------------------------------------+---------------+--------------+\n"
     ]
    }
   ],
   "source": [
    "# least popular end_station_id\n",
    "! bq query --use_legacy_sql=FALSE '\\\n",
    "SELECT \\\n",
    "  a.end_station_id, \\\n",
    "  b.name, \\\n",
    "  b.landmark, \\\n",
    "  a.num_dropoffs \\\n",
    "FROM \\\n",
    "( \\\n",
    "  SELECT \\\n",
    "    end_station_id, \\\n",
    "    COUNT(*) AS num_dropoffs \\\n",
    "  FROM \\\n",
    "    `bigquery-public-data.san_francisco.bikeshare_trips` \\\n",
    "  GROUP BY \\\n",
    "    end_station_id \\\n",
    "  ORDER BY \\\n",
    "    num_dropoffs \\\n",
    ") AS a \\\n",
    "JOIN \\\n",
    "( \\\n",
    "  SELECT \\\n",
    "    station_id, \\\n",
    "    name, \\\n",
    "    landmark \\\n",
    "  FROM \\\n",
    "  `bigquery-public-data.san_francisco.bikeshare_stations` \\\n",
    ") AS b \\\n",
    "ON \\\n",
    "  a.end_station_id = b.station_id \\\n",
    "ORDER BY \\\n",
    "  a.num_dropoffs'"
   ]
  },
  {
   "cell_type": "markdown",
   "metadata": {},
   "source": [
    "## Fact \\# 8\n",
    "Zip Codes are unreliable because people who rent bikes can enter any zip code they like. The least popular zip codes tend to be invalid and inputted by customers, which might indicate that perhaps customers are tourists visiting the Bay Area. The popular zip codes are from people who live in the San Francisco area. They also tend to be subscribers.\n",
    "\n",
    "The top 5 popular zip codes inputted are:\n",
    "* 94107: San Francisco\n",
    "* 94105: San Francisco\n",
    "* 94133: San Francisco\n",
    "* 94103: San Francisco\n",
    "* 94111: San Francisco"
   ]
  },
  {
   "cell_type": "code",
   "execution_count": 231,
   "metadata": {},
   "outputs": [
    {
     "name": "stdout",
     "output_type": "stream",
     "text": [
      "Waiting on bqjob_r43c4fd4a7ec9bc26_00000161bd174ed5_1 ... (1s) Current status: DONE   \n",
      "+----------+----------------------+----------------------+--------------------+\n",
      "| zip_code | num_trips_by_zipcode | num_subscriber_trips | num_customer_trips |\n",
      "+----------+----------------------+----------------------+--------------------+\n",
      "| 94107    |               106913 |               104037 |               2876 |\n",
      "| 94105    |                61232 |                59582 |               1650 |\n",
      "| 94133    |                46544 |                45242 |               1302 |\n",
      "| 94103    |                38072 |                36517 |               1555 |\n",
      "| 94111    |                33642 |                32615 |               1027 |\n",
      "+----------+----------------------+----------------------+--------------------+\n"
     ]
    }
   ],
   "source": [
    "# most popular zip code\n",
    "! bq query --use_legacy_sql=FALSE '\\\n",
    "SELECT \\\n",
    "  zip_code, \\\n",
    "  COUNT (*) AS num_trips_by_zipcode, \\\n",
    "  SUM(CASE WHEN subscriber_type = \"Subscriber\" THEN 1 ELSE 0 end) AS num_subscriber_trips, \\\n",
    "  SUM(CASE WHEN subscriber_type = \"Customer\" THEN 1 ELSE 0 END) AS num_customer_trips \\\n",
    "FROM \\\n",
    "  `bigquery-public-data.san_francisco.bikeshare_trips` \\\n",
    "GROUP BY \\\n",
    "  zip_code \\\n",
    "ORDER BY \\\n",
    "  num_trips_by_zipcode DESC \\\n",
    "LIMIT \\\n",
    "  5'"
   ]
  },
  {
   "cell_type": "code",
   "execution_count": 233,
   "metadata": {},
   "outputs": [
    {
     "name": "stdout",
     "output_type": "stream",
     "text": [
      "Waiting on bqjob_r6c2bb4465daa2c60_00000161bd17db5c_1 ... (1s) Current status: DONE   \n",
      "+----------+----------------------+----------------------+--------------------+\n",
      "| zip_code | num_trips_by_zipcode | num_subscriber_trips | num_customer_trips |\n",
      "+----------+----------------------+----------------------+--------------------+\n",
      "| 42301    |                    1 |                    0 |                  1 |\n",
      "| 3102     |                    1 |                    0 |                  1 |\n",
      "| 9539     |                    1 |                    0 |                  1 |\n",
      "| 9456     |                    1 |                    0 |                  1 |\n",
      "| 90740    |                    1 |                    0 |                  1 |\n",
      "| 6888     |                    1 |                    0 |                  1 |\n",
      "| 52402    |                    1 |                    0 |                  1 |\n",
      "| 11580    |                    1 |                    0 |                  1 |\n",
      "| 59650    |                    1 |                    0 |                  1 |\n",
      "| 10950    |                    1 |                    0 |                  1 |\n",
      "| 53819    |                    1 |                    0 |                  1 |\n",
      "| 195127   |                    1 |                    0 |                  1 |\n",
      "| 3221     |                    1 |                    0 |                  1 |\n",
      "| 96837    |                    1 |                    0 |                  1 |\n",
      "| 60401    |                    1 |                    0 |                  1 |\n",
      "| 94586    |                    1 |                    0 |                  1 |\n",
      "| 650000   |                    1 |                    0 |                  1 |\n",
      "| 93544    |                    1 |                    0 |                  1 |\n",
      "| 48045    |                    1 |                    0 |                  1 |\n",
      "| 95056    |                    1 |                    0 |                  1 |\n",
      "| 6113     |                    1 |                    0 |                  1 |\n",
      "| 36066    |                    1 |                    0 |                  1 |\n",
      "| 95305    |                    1 |                    0 |                  1 |\n",
      "| 7003     |                    1 |                    0 |                  1 |\n",
      "| 80405    |                    1 |                    0 |                  1 |\n",
      "| 28715    |                    1 |                    0 |                  1 |\n",
      "| 64566    |                    1 |                    0 |                  1 |\n",
      "| 13783    |                    1 |                    0 |                  1 |\n",
      "| 33909    |                    1 |                    0 |                  1 |\n",
      "| 6751     |                    1 |                    0 |                  1 |\n",
      "| 21756    |                    1 |                    0 |                  1 |\n",
      "| 675000   |                    1 |                    0 |                  1 |\n",
      "| 19608    |                    1 |                    0 |                  1 |\n",
      "| 90701    |                    1 |                    0 |                  1 |\n",
      "| 71686    |                    1 |                    0 |                  1 |\n",
      "| 890      |                    1 |                    0 |                  1 |\n",
      "| 79414    |                    1 |                    0 |                  1 |\n",
      "| 889503   |                    1 |                    0 |                  1 |\n",
      "| 17070    |                    1 |                    0 |                  1 |\n",
      "| 58270    |                    1 |                    0 |                  1 |\n",
      "| 6320     |                    1 |                    0 |                  1 |\n",
      "| 57560    |                    1 |                    0 |                  1 |\n",
      "| 95531    |                    1 |                    0 |                  1 |\n",
      "| 2558     |                    1 |                    0 |                  1 |\n",
      "| 55455    |                    1 |                    0 |                  1 |\n",
      "| 65401    |                    1 |                    0 |                  1 |\n",
      "| 37024    |                    1 |                    0 |                  1 |\n",
      "| 66204    |                    1 |                    0 |                  1 |\n",
      "| 72072    |                    1 |                    0 |                  1 |\n",
      "| 8901     |                    1 |                    0 |                  1 |\n",
      "+----------+----------------------+----------------------+--------------------+\n"
     ]
    }
   ],
   "source": [
    "# least popular zip code\n",
    "! bq query --use_legacy_sql=FALSE '\\\n",
    "SELECT \\\n",
    "  zip_code, \\\n",
    "  COUNT (*) AS num_trips_by_zipcode, \\\n",
    "  SUM(CASE WHEN subscriber_type = \"Subscriber\" THEN 1 ELSE 0 end) AS num_subscriber_trips, \\\n",
    "  SUM(CASE WHEN subscriber_type = \"Customer\" THEN 1 ELSE 0 END) AS num_customer_trips \\\n",
    "FROM \\\n",
    "  `bigquery-public-data.san_francisco.bikeshare_trips` \\\n",
    "GROUP BY \\\n",
    "  zip_code \\\n",
    "ORDER BY \\\n",
    "  num_trips_by_zipcode \\\n",
    "LIMIT \\\n",
    "  50'"
   ]
  },
  {
   "cell_type": "markdown",
   "metadata": {},
   "source": [
    "## Conclusion"
   ]
  },
  {
   "cell_type": "markdown",
   "metadata": {},
   "source": [
    "To increase ridership, Ford GoBike can look into \n",
    "* fact #1: increasing ridership in customers because customers constitute less than 14% of all bike trips\n",
    "* fact #3 and #4: incorporating programs that extend the duration of the trip beyond 30 minutes because on average, customers tend to bike 62 minutes  \n",
    "* fact #5: providing discount in the evenings where the number of riderships is lowest \n",
    "* fact #6: providing discount in winter season, in particular December, where the number of riderships is lowest\n",
    "* fact #7: figuring out why certain stations and certain cities are unpopular with renting bikes"
   ]
  },
  {
   "cell_type": "markdown",
   "metadata": {},
   "source": [
    "## References"
   ]
  },
  {
   "cell_type": "markdown",
   "metadata": {},
   "source": [
    "1. Bureau, US Census. “Biking to Work Increases 60 Percent Over Last Decade.” The United States Census Bureau, 8 May 2014, www.census.gov/newsroom/press-releases/2014/cb14-86.html.\n",
    "2. Melissa Eisenberg on March 27, 2017 1:00 am. “When do you leave work?” The San Francisco Examiner, www.sfexaminer.com/when-do-you-leave-work/."
   ]
  }
 ],
 "metadata": {
  "kernelspec": {
   "display_name": "Python 3",
   "language": "python",
   "name": "python3"
  },
  "language_info": {
   "codemirror_mode": {
    "name": "ipython",
    "version": 3
   },
   "file_extension": ".py",
   "mimetype": "text/x-python",
   "name": "python",
   "nbconvert_exporter": "python",
   "pygments_lexer": "ipython3",
   "version": "3.5.2"
  }
 },
 "nbformat": 4,
 "nbformat_minor": 2
}
